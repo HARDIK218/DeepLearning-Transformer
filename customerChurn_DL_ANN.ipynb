{
 "cells": [
  {
   "cell_type": "code",
   "execution_count": null,
   "metadata": {},
   "outputs": [],
   "source": [
    "import numpy as np\n",
    "import pandas as pd\n",
    "\n",
    "data = pd.read_csv('Churn_Modelling.csv')\n",
    "data.head()"
   ]
  },
  {
   "cell_type": "code",
   "execution_count": null,
   "metadata": {},
   "outputs": [],
   "source": [
    "data.info()"
   ]
  },
  {
   "cell_type": "code",
   "execution_count": null,
   "metadata": {},
   "outputs": [],
   "source": [
    "data.drop(columns =['RowNumber','CustomerId','Surname'],inplace = True)"
   ]
  },
  {
   "cell_type": "code",
   "execution_count": null,
   "metadata": {},
   "outputs": [],
   "source": [
    "data.corr()"
   ]
  },
  {
   "cell_type": "code",
   "execution_count": null,
   "metadata": {},
   "outputs": [],
   "source": [
    "import seaborn as sns\n",
    "import matplotlib.pyplot as plt\n",
    "\n",
    "\n",
    "\n",
    "\n",
    "correlation_matrix = data.corr()\n",
    "\n",
    "\n",
    "plt.figure(figsize=(10, 8))\n",
    "sns.heatmap(correlation_matrix, annot=True, cmap=\"coolwarm\")\n",
    "plt.title(\"Correlation Matrix Heatmap\")\n",
    "plt.show()"
   ]
  },
  {
   "cell_type": "code",
   "execution_count": null,
   "metadata": {},
   "outputs": [],
   "source": [
    "data = pd.get_dummies(data, columns = ['Geography','Gender'],drop_first = True)"
   ]
  },
  {
   "cell_type": "code",
   "execution_count": null,
   "metadata": {},
   "outputs": [],
   "source": [
    "#scailing the data\n",
    "x = data.drop(columns = ['Exited'])\n",
    "y = data['Exited']\n",
    "from sklearn.model_selection import train_test_split\n",
    "x_train,x_test,y_train,y_test = train_test_split(x,y,test_size = 0.2,random_state = 42)"
   ]
  },
  {
   "cell_type": "code",
   "execution_count": null,
   "metadata": {},
   "outputs": [],
   "source": [
    "from sklearn.preprocessing import StandardScaler\n",
    "scaler =  StandardScaler()\n",
    "\n",
    "x_train_scaled = scaler.fit_transform(x_train)\n",
    "x_test_scaled = scaler.transform(x_test)"
   ]
  },
  {
   "cell_type": "code",
   "execution_count": null,
   "metadata": {},
   "outputs": [],
   "source": [
    "### DEEP LEARNING MODEL ###\n",
    "import tensorflow\n",
    "from tensorflow import keras\n",
    "from tensorflow.keras import Sequential\n",
    "from tensorflow.keras.layers import Dense\n",
    "\n",
    "\n",
    "model = Sequential()\n",
    "\n",
    "#1st hidden input layer with  3 perceptron\n",
    "model.add(Dense(3,activation='sigmoid',input_dim = 11))\n",
    "# 1 hidden output layer\n",
    "model.add(Dense(1,activation = 'sigmoid'))"
   ]
  },
  {
   "cell_type": "code",
   "execution_count": null,
   "metadata": {},
   "outputs": [],
   "source": [
    "model.summary()"
   ]
  },
  {
   "cell_type": "code",
   "execution_count": null,
   "metadata": {},
   "outputs": [],
   "source": [
    "Model: \"sequential\"\n",
    "_________________________________________________________________\n",
    " Layer (type)                Output Shape              Param #   \n",
    "=================================================================\n",
    " dense (Dense)               (None, 3)                 36        \n",
    "                                                                 \n",
    " dense_1 (Dense)             (None, 1)                 4         \n",
    "                                                                 \n",
    "=================================================================\n",
    "Total params: 40 (160.00 Byte)\n",
    "Trainable params: 40 (160.00 Byte)\n",
    "Non-trainable params: 0 (0.00 Byte)"
   ]
  },
  {
   "cell_type": "code",
   "execution_count": null,
   "metadata": {},
   "outputs": [],
   "source": [
    "model.compile(loss = 'binary_crossentropy',optimizer = 'Adam')"
   ]
  },
  {
   "cell_type": "code",
   "execution_count": null,
   "metadata": {},
   "outputs": [],
   "source": [
    "model.fit(x_train_scaled,y_train,epochs = 20)"
   ]
  },
  {
   "cell_type": "code",
   "execution_count": null,
   "metadata": {},
   "outputs": [],
   "source": [
    "Epoch 1/20\n",
    "250/250 [==============================] - 0s 318us/step - loss: 0.4265\n",
    "Epoch 2/20\n",
    "250/250 [==============================] - 0s 286us/step - loss: 0.4247\n",
    "Epoch 3/20\n",
    "250/250 [==============================] - 0s 286us/step - loss: 0.4230\n",
    "Epoch 4/20\n",
    "250/250 [==============================] - 0s 289us/step - loss: 0.4214\n",
    "Epoch 5/20\n",
    "250/250 [==============================] - 0s 287us/step - loss: 0.4200\n",
    "Epoch 6/20\n",
    "250/250 [==============================] - 0s 283us/step - loss: 0.4186\n",
    "Epoch 7/20\n",
    "250/250 [==============================] - 0s 285us/step - loss: 0.4175\n",
    "Epoch 8/20\n",
    "250/250 [==============================] - 0s 283us/step - loss: 0.4163\n",
    "Epoch 9/20\n",
    "250/250 [==============================] - 0s 287us/step - loss: 0.4153\n",
    "Epoch 10/20\n",
    "250/250 [==============================] - 0s 281us/step - loss: 0.4145\n",
    "Epoch 11/20\n",
    "250/250 [==============================] - 0s 287us/step - loss: 0.4137\n",
    "Epoch 12/20\n",
    "250/250 [==============================] - 0s 288us/step - loss: 0.4130\n",
    "Epoch 13/20\n",
    "250/250 [==============================] - 0s 282us/step - loss: 0.4124\n",
    "Epoch 14/20\n",
    "250/250 [==============================] - 0s 287us/step - loss: 0.4117\n",
    "Epoch 15/20\n",
    "250/250 [==============================] - 0s 284us/step - loss: 0.4112\n",
    "Epoch 16/20\n",
    "250/250 [==============================] - 0s 284us/step - loss: 0.4106\n",
    "Epoch 17/20\n",
    "250/250 [==============================] - 0s 286us/step - loss: 0.4100\n",
    "Epoch 18/20\n",
    "250/250 [==============================] - 0s 286us/step - loss: 0.4093\n",
    "Epoch 19/20\n",
    "250/250 [==============================] - 0s 279us/step - loss: 0.4087\n",
    "Epoch 20/20\n",
    "250/250 [==============================] - 0s 288us/step - loss: 0.4079\n",
    "Out[32]:\n",
    "<keras.src.callbacks.History at 0x28a077c40>\n",
    "In [34]:\n"
   ]
  },
  {
   "cell_type": "code",
   "execution_count": null,
   "metadata": {},
   "outputs": [],
   "source": [
    "y_log = model.predict(x_test_scaled)"
   ]
  },
  {
   "cell_type": "code",
   "execution_count": null,
   "metadata": {},
   "outputs": [],
   "source": [
    "y_pred = np.where(y_log>0.5,1,0)"
   ]
  },
  {
   "cell_type": "code",
   "execution_count": null,
   "metadata": {},
   "outputs": [],
   "source": [
    "from sklearn.metrics import accuracy_score\n",
    "accuracy_score(y_test,y_pred)\n",
    "0.839"
   ]
  },
  {
   "cell_type": "code",
   "execution_count": null,
   "metadata": {},
   "outputs": [],
   "source": []
  }
 ],
 "metadata": {
  "kernelspec": {
   "display_name": "Python 3",
   "language": "python",
   "name": "python3"
  },
  "language_info": {
   "codemirror_mode": {
    "name": "ipython",
    "version": 3
   },
   "file_extension": ".py",
   "mimetype": "text/x-python",
   "name": "python",
   "nbconvert_exporter": "python",
   "pygments_lexer": "ipython3",
   "version": "3.10.0"
  },
  "orig_nbformat": 4
 },
 "nbformat": 4,
 "nbformat_minor": 2
}
